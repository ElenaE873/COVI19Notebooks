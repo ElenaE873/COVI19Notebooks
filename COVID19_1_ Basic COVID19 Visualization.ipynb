{
 "cells": [
  {
   "cell_type": "markdown",
   "metadata": {},
   "source": [
    "This notebook was composed through the training received from the Guided Project \"Death Medical Analysis & Visualization using Plotly\" on Coursera.  The course, however, uses Google Colab, and goes much more in-depth.  This notebook covers only selected topics and some additional information built over time.  Highly recommend you visit the [Course](https://www.coursera.org/projects/covid-19-death-medical-analysis-visualization-using-plotly) and see for yourself what it can offer."
   ]
  },
  {
   "cell_type": "markdown",
   "metadata": {},
   "source": [
    "### Importing Libraries"
   ]
  },
  {
   "cell_type": "code",
   "execution_count": null,
   "metadata": {
    "id": "tyDqe4sFYfp9"
   },
   "outputs": [],
   "source": [
    "#Data analysis and Manipulation\n",
    "import pandas as pd       \n",
    "\n",
    "#Data Visualization\n",
    "import plotly.express as px    \n",
    "import matplotlib.pyplot as plt  "
   ]
  },
  {
   "cell_type": "code",
   "execution_count": null,
   "metadata": {
    "id": "hG0VnKyUYzb-"
   },
   "outputs": [],
   "source": [
    "import plotly.io as pio"
   ]
  },
  {
   "cell_type": "markdown",
   "metadata": {
    "id": "NFrlaaVCZ76Z"
   },
   "source": [
    "### Importing Datasets"
   ]
  },
  {
   "cell_type": "code",
   "execution_count": null,
   "metadata": {
    "id": "FPEvhxQMZ8lB"
   },
   "outputs": [],
   "source": [
    "df1 = pd.read_csv('covid_worldometer_data.csv')"
   ]
  },
  {
   "cell_type": "code",
   "execution_count": null,
   "metadata": {
    "id": "bnj2tfJcadcC"
   },
   "outputs": [],
   "source": [
    "df1"
   ]
  },
  {
   "cell_type": "markdown",
   "metadata": {
    "id": "Vhl0W7Kradqz"
   },
   "source": [
    "### Visualization"
   ]
  },
  {
   "cell_type": "markdown",
   "metadata": {},
   "source": [
    "- Total Cases by Top 15 Countries\n",
    "- Total Deaths by Top 15 Countries\n",
    "- Total Deaths by Total Cases by Country"
   ]
  },
  {
   "cell_type": "markdown",
   "metadata": {
    "id": "NcDp07QBaluA"
   },
   "source": [
    "#### Total Cases - The Top 15 Countries"
   ]
  },
  {
   "cell_type": "code",
   "execution_count": null,
   "metadata": {
    "id": "qd0mHOxqalyq"
   },
   "outputs": [],
   "source": [
    "px.bar(df1.head(15), x = 'Country', y='TotalCases', color = 'Country')"
   ]
  },
  {
   "cell_type": "markdown",
   "metadata": {},
   "source": [
    "#### Total Deaths - Top 15 Countries"
   ]
  },
  {
   "cell_type": "code",
   "execution_count": null,
   "metadata": {},
   "outputs": [],
   "source": [
    "px.bar(df1.head(15), x = 'Country', y='TotalDeaths', color = 'Country')"
   ]
  },
  {
   "cell_type": "markdown",
   "metadata": {},
   "source": [
    "Observation 1 :  Largest cases/deaths are in :\n",
    "- USA\n",
    "- India\n",
    "- Brazil\n",
    "- Russia\n",
    "<br> \n",
    "Making the assumption that the reporting is accurate, then it would follow these are countries where the population is also higher than others.  So proportionality may be more informative in these types of scenarios."
   ]
  },
  {
   "cell_type": "markdown",
   "metadata": {},
   "source": [
    "#### Total Deaths by Total Cases by Country"
   ]
  },
  {
   "cell_type": "code",
   "execution_count": null,
   "metadata": {},
   "outputs": [],
   "source": [
    "px. scatter(df1, x = 'Totalcases/1M', y = 'TotalDeath/1M', color = 'Country')"
   ]
  },
  {
   "cell_type": "markdown",
   "metadata": {},
   "source": [
    "For the majority of the countries, there is a linear relationship between total cases and total deaths. It's interesting to see where this relationship is not."
   ]
  },
  {
   "cell_type": "markdown",
   "metadata": {
    "id": "eOmxA-CHazns"
   },
   "source": [
    "### Using Choropleth Maps for Geographical Visualization"
   ]
  },
  {
   "cell_type": "markdown",
   "metadata": {
    "id": "RrHNwZcKbIMZ"
   },
   "source": [
    "A choropleth map displays divided geographical areas or regions that are coloured, shaded or patterned in relation to a data variable.  Choropleth maps provide an easy way to visualize how a measurement varies across a geographic area."
   ]
  },
  {
   "cell_type": "code",
   "execution_count": null,
   "metadata": {},
   "outputs": [],
   "source": [
    "df1.columns"
   ]
  },
  {
   "cell_type": "code",
   "execution_count": null,
   "metadata": {
    "id": "k-Ut-vPWbJgO"
   },
   "outputs": [],
   "source": [
    "px.choropleth(df1, \n",
    "              locations = 'iso_alpha', \n",
    "              hover_name = 'Country', \n",
    "              color = 'TotalDeath/1M', \n",
    "              projection = 'orthographic',\n",
    "              color_continuous_scale = 'viridis')"
   ]
  }
 ],
 "metadata": {
  "colab": {
   "name": "Learner_notebook.ipynb",
   "provenance": []
  },
  "kernelspec": {
   "display_name": "Python 3",
   "language": "python",
   "name": "python3"
  },
  "language_info": {
   "codemirror_mode": {
    "name": "ipython",
    "version": 3
   },
   "file_extension": ".py",
   "mimetype": "text/x-python",
   "name": "python",
   "nbconvert_exporter": "python",
   "pygments_lexer": "ipython3",
   "version": "3.8.5"
  }
 },
 "nbformat": 4,
 "nbformat_minor": 1
}
